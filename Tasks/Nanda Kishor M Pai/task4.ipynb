{
  "nbformat": 4,
  "nbformat_minor": 0,
  "metadata": {
    "colab": {
      "name": "AI_Bootcamp_Tasks.ipynb",
      "provenance": [],
      "collapsed_sections": []
    },
    "kernelspec": {
      "name": "python3",
      "display_name": "Python 3"
    },
    "language_info": {
      "name": "python"
    }
  },
  "cells": [
    {
      "cell_type": "code",
      "metadata": {
        "id": "CVCCqoc7Sgm8"
      },
      "source": [
        "!pip install tensorflow-hub\n",
        "!pip install tensorflow-datasets"
      ],
      "execution_count": null,
      "outputs": []
    },
    {
      "cell_type": "code",
      "metadata": {
        "id": "smXHa18WS2bE"
      },
      "source": [
        "import os\n",
        "import numpy as np\n",
        "\n",
        "import tensorflow as tf\n",
        "import tensorflow_datasets as tfds\n",
        "from tensorflow.keras.preprocessing.text import Tokenizer\n",
        "from tensorflow.keras.preprocessing.sequence import pad_sequences"
      ],
      "execution_count": 19,
      "outputs": []
    },
    {
      "cell_type": "code",
      "metadata": {
        "id": "ndExf0KDQkjF"
      },
      "source": [
        "imdb, info = tfds.load(\"imdb_reviews\", with_info=True, as_supervised=True)\n",
        "train_data, test_data = imdb['train'], imdb['test']\n",
        "\n",
        "training_sentences = []\n",
        "training_labels = []\n",
        "\n",
        "testing_sentences = []\n",
        "testing_labels = []\n",
        "\n",
        "for s,l in train_data:\n",
        "  training_sentences.append(str(s.numpy()))\n",
        "  training_labels.append(l.numpy())\n",
        "  \n",
        "for s,l in test_data:\n",
        "  testing_sentences.append(str(s.numpy()))\n",
        "  testing_labels.append(l.numpy())\n",
        "  \n",
        "training_labels_final = np.array(training_labels)\n",
        "testing_labels_final = np.array(testing_labels)"
      ],
      "execution_count": 22,
      "outputs": []
    },
    {
      "cell_type": "code",
      "metadata": {
        "id": "A5FWVaLpQnp2"
      },
      "source": [
        "vocab_size = 10000\n",
        "embedding_dim = 16\n",
        "max_length = 120\n",
        "trunc_type='post'\n",
        "oov_tok = \"\"\n",
        "\n",
        "tokenizer = Tokenizer(num_words = vocab_size, oov_token=oov_tok) \n",
        "tokenizer.fit_on_texts(training_sentences) \n",
        "word_index = tokenizer.word_index\n",
        "sequences = tokenizer.texts_to_sequences(training_sentences) \n",
        "padded = pad_sequences(sequences,maxlen=max_length, truncating=trunc_type)\n",
        "testing_sequences = tokenizer.texts_to_sequences(testing_sentences)\n",
        "testing_padded = pad_sequences(testing_sequences,maxlen=max_length)"
      ],
      "execution_count": 23,
      "outputs": []
    },
    {
      "cell_type": "code",
      "metadata": {
        "id": "2DCk5lduQoy8"
      },
      "source": [
        "model = tf.keras.Sequential([\n",
        "    tf.keras.layers.Embedding(vocab_size, embedding_dim, input_length=max_length),\n",
        "    tf.keras.layers.Bidirectional(tf.keras.layers.GRU(32)),\n",
        "    tf.keras.layers.Dense(6, activation='relu'),\n",
        "    tf.keras.layers.Dense(1, activation='sigmoid')\n",
        "])\n",
        "model.compile(loss='binary_crossentropy',optimizer='adam',metrics=['accuracy'])"
      ],
      "execution_count": 24,
      "outputs": []
    },
    {
      "cell_type": "code",
      "metadata": {
        "id": "24gc7jX4Urwp"
      },
      "source": [
        "# Task of Day 4, Earlystopping with Patience 3\n",
        "\n",
        "from tensorflow.keras.callbacks import EarlyStopping\n",
        "\n",
        "earlystop_callback = EarlyStopping(\n",
        "  monitor='val_loss', min_delta=0.0001, patience=3)"
      ],
      "execution_count": 25,
      "outputs": []
    },
    {
      "cell_type": "code",
      "metadata": {
        "colab": {
          "base_uri": "https://localhost:8080/"
        },
        "id": "0sQ5LEJsU4fK",
        "outputId": "52ff61c2-34f5-4e15-8db3-8b3eaa5b8fa2"
      },
      "source": [
        "num_epochs = 10\n",
        "model.fit(padded, training_labels_final, epochs=num_epochs, validation_data=(testing_padded, testing_labels_final), callbacks=[earlystop_callback])\n",
        "model.evaluate(testing_padded)"
      ],
      "execution_count": 27,
      "outputs": [
        {
          "output_type": "stream",
          "name": "stdout",
          "text": [
            "Epoch 1/10\n",
            "782/782 [==============================] - 81s 98ms/step - loss: 0.5663 - accuracy: 0.6839 - val_loss: 0.3952 - val_accuracy: 0.8273\n",
            "Epoch 2/10\n",
            "782/782 [==============================] - 76s 98ms/step - loss: 0.3372 - accuracy: 0.8592 - val_loss: 0.3627 - val_accuracy: 0.8394\n",
            "Epoch 3/10\n",
            "782/782 [==============================] - 76s 98ms/step - loss: 0.2671 - accuracy: 0.8969 - val_loss: 0.3990 - val_accuracy: 0.8338\n",
            "Epoch 4/10\n",
            "782/782 [==============================] - 76s 97ms/step - loss: 0.2165 - accuracy: 0.9201 - val_loss: 0.4066 - val_accuracy: 0.8374\n",
            "Epoch 5/10\n",
            "782/782 [==============================] - 76s 97ms/step - loss: 0.1681 - accuracy: 0.9435 - val_loss: 0.4366 - val_accuracy: 0.8245\n",
            "782/782 [==============================] - 2s 1ms/step - loss: 0.0000e+00 - accuracy: 0.0000e+00\n"
          ]
        },
        {
          "output_type": "execute_result",
          "data": {
            "text/plain": [
              "[0.0, 0.0]"
            ]
          },
          "metadata": {},
          "execution_count": 27
        }
      ]
    },
    {
      "cell_type": "markdown",
      "metadata": {
        "id": "HD2m6EFLXG1D"
      },
      "source": [
        "Early Stopping stopped the training after 3 epochs of increase in lose thus saving from overfitting."
      ]
    }
  ]
}
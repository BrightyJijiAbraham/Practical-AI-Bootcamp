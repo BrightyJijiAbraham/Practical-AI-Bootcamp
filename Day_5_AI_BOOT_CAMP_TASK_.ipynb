{
  "nbformat": 4,
  "nbformat_minor": 0,
  "metadata": {
    "colab": {
      "name": "Day 5 AI BOOT CAMP TASK .ipynb",
      "provenance": []
    },
    "kernelspec": {
      "name": "python3",
      "display_name": "Python 3"
    },
    "language_info": {
      "name": "python"
    }
  },
  "cells": [
    {
      "cell_type": "code",
      "metadata": {
        "id": "G_LKIOr6yBgK"
      },
      "source": [
        "import tensorflow_datasets as tfds\n",
        "print(tfds.list_builders())\n",
        "\n",
        "dataloader = tfds.load(\"cifar10\", as_supervised=True)\n",
        "train, test = dataloader[\"train\"], dataloader[\"test\"]\n",
        "\n"
      ],
      "execution_count": null,
      "outputs": []
    },
    {
      "cell_type": "code",
      "metadata": {
        "id": "r_AZCbsOy86_"
      },
      "source": [
        "import tensorflow as tf\n",
        "\n",
        "directory_url = 'https://storage.googleapis.com/download.tensorflow.org/data/illiad/'\n",
        "file_names = ['cowper.txt', 'derby.txt', 'butler.txt']\n",
        "\n",
        "file_paths = [\n",
        "    tf.keras.utils.get_file(file_name, directory_url + file_name)\n",
        "    for file_name in file_names\n",
        "]\n",
        "\n",
        "dataset = tf.data.TextLineDataset(file_paths)\n"
      ],
      "execution_count": null,
      "outputs": []
    },
    {
      "cell_type": "code",
      "metadata": {
        "id": "DRkyIVzL0ybQ"
      },
      "source": [
        "import torch\n",
        "from torch.utils.data import Dataset\n",
        "from torchvision import datasets\n",
        "from torchvision.transforms import ToTensor\n",
        "import matplotlib.pyplot as plt\n",
        "\n",
        "training_data = datasets.FashionMNIST(\n",
        "    root=\"data\",\n",
        "    train=True,\n",
        "    download=True,\n",
        "    transform=ToTensor()\n",
        ")\n",
        "\n",
        "test_data = datasets.FashionMNIST(\n",
        "    root=\"data\",\n",
        "    train=False,\n",
        "    download=True,\n",
        "    transform=ToTensor()\n",
        ")\n",
        "\n"
      ],
      "execution_count": null,
      "outputs": []
    },
    {
      "cell_type": "code",
      "metadata": {
        "colab": {
          "base_uri": "https://localhost:8080/"
        },
        "id": "bR7H74uX1QlX",
        "outputId": "36635424-9cd9-49c6-ca9e-ba42c915ff10"
      },
      "source": [
        "import tensorflow as tf\n",
        "\n",
        "directory_url = 'https://storage.googleapis.com/download.tensorflow.org/data/illiad/'\n",
        "file_names = ['cowper.txt', 'derby.txt', 'butler.txt']\n",
        "\n",
        "file_paths = [\n",
        "    tf.keras.utils.get_file(file_name, directory_url + file_name)\n",
        "    for file_name in file_names\n",
        "]\n",
        "\n",
        "dataset = tf.data.TextLineDataset(file_paths)\n",
        "for line in dataset.take(5):\n",
        "  print(line.numpy())\n",
        " \n"
      ],
      "execution_count": 8,
      "outputs": [
        {
          "output_type": "stream",
          "name": "stdout",
          "text": [
            "b\"\\xef\\xbb\\xbfAchilles sing, O Goddess! Peleus' son;\"\n",
            "b'His wrath pernicious, who ten thousand woes'\n",
            "b\"Caused to Achaia's host, sent many a soul\"\n",
            "b'Illustrious into Ades premature,'\n",
            "b'And Heroes gave (so stood the will of Jove)'\n"
          ]
        }
      ]
    },
    {
      "cell_type": "code",
      "metadata": {
        "colab": {
          "base_uri": "https://localhost:8080/",
          "height": 316
        },
        "id": "qGH5mG9G1cLr",
        "outputId": "9c691da0-3adc-4b4a-bcbc-0e52246bdf66"
      },
      "source": [
        "import torch\n",
        "from torch.utils.data import Dataset\n",
        "from torchvision import datasets\n",
        "from torchvision.transforms import ToTensor\n",
        "from torch.utils.data import DataLoader\n",
        "import matplotlib.pyplot as plt\n",
        "\n",
        "\n",
        "training_data = datasets.FashionMNIST(\n",
        "    root=\"data\",\n",
        "    train=True,\n",
        "    download=True,\n",
        "    transform=ToTensor()\n",
        ")\n",
        "\n",
        "test_data = datasets.FashionMNIST(\n",
        "    root=\"data\",\n",
        "    train=False,\n",
        "    download=True,\n",
        "    transform=ToTensor()\n",
        ")\n",
        "\n",
        "train_dataloader = DataLoader(training_data, batch_size=64, shuffle=True)\n",
        "test_dataloader = DataLoader(test_data, batch_size=64, shuffle=True)\n",
        "\n",
        "train_features, train_labels = next(iter(train_dataloader))\n",
        "print(f\"Feature batch shape: {train_features.size()}\")\n",
        "print(f\"Labels batch shape: {train_labels.size()}\")\n",
        "img = train_features[0].squeeze()\n",
        "label = train_labels[0]\n",
        "plt.imshow(img, cmap=\"gray\")\n",
        "plt.show()\n",
        "print(f\"Label: {label}\")\n"
      ],
      "execution_count": 9,
      "outputs": [
        {
          "output_type": "stream",
          "name": "stdout",
          "text": [
            "Feature batch shape: torch.Size([64, 1, 28, 28])\n",
            "Labels batch shape: torch.Size([64])\n"
          ]
        },
        {
          "output_type": "display_data",
          "data": {
            "image/png": "[encoded data removed]",
            "text/plain": [
              "<Figure size 432x288 with 1 Axes>"
            ]
          },
          "metadata": {
            "needs_background": "light"
          }
        },
        {
          "output_type": "stream",
          "name": "stdout",
          "text": [
            "Label: 2\n"
          ]
        }
      ]
    },
    {
      "cell_type": "code",
      "metadata": {
        "id": "uwoG3Ghs1kgE"
      },
      "source": [
        "\n",
        "import tensorflow_datasets as tfds\n",
        "\n",
        "dataloader = tfds.load(\"cifar10\", as_supervised=True)\n",
        "train, test = dataloader[\"train\"], dataloader[\"test\"]\n",
        "\n",
        "train = train.map(\n",
        "    lambda image, label: (tf.image.convert_image_dtype(image, tf.float32), label)\n",
        ").cache().map(\n",
        "    lambda image, label: (tf.image.random_flip_left_right(image), label)\n",
        ").map(\n",
        "    lambda image, label: (tf.image.random_contrast(image, lower=0.0, upper=1.0), label)\n",
        ").shuffle(\n",
        "    100\n",
        ").batch(\n",
        "    64\n",
        ").repeat()\n"
      ],
      "execution_count": 10,
      "outputs": []
    },
    {
      "cell_type": "code",
      "metadata": {
        "id": "SkzKFkK513Vq"
      },
      "source": [
        "import tensorflow as tf\n",
        "\n",
        "directory_url = 'https://storage.googleapis.com/download.tensorflow.org/data/illiad/'\n",
        "file_names = ['cowper.txt', 'derby.txt', 'butler.txt']\n",
        "\n",
        "file_paths = [\n",
        "    tf.keras.utils.get_file(file_name, directory_url + file_name)\n",
        "    for file_name in file_names\n",
        "]\n",
        "\n",
        "dataset = tf.data.TextLineDataset(file_paths)\n"
      ],
      "execution_count": 11,
      "outputs": []
    },
    {
      "cell_type": "code",
      "metadata": {
        "id": "bC6wtKXEQtWx"
      },
      "source": [
        "from tensorflow.keras.callbacks import EarlyStopping\n",
        "\n",
        "earlystop_callback = EarlyStopping(\n",
        "  monitor='val_accuracy', min_delta=0, patiece=5)\n"
      ],
      "execution_count": null,
      "outputs": []
    },
    {
      "cell_type": "code",
      "metadata": {
        "id": "onBrem8zRDW6"
      },
      "source": [
        "def __init__(self, batch_size, num_patches, **kwargs):\n",
        "        super(TemporalReshape, self).__init__()\n",
        "        self.batch_size = batch_size\n",
        "        self.num_patches = num_patches"
      ],
      "execution_count": 2,
      "outputs": []
    },
    {
      "cell_type": "code",
      "metadata": {
        "id": "8YA52HuPROWt"
      },
      "source": [
        "from tensorflow.keras.callbacks import EarlyStopping\n",
        "\n",
        "earlystop_callback = EarlyStopping(\n",
        "  monitor='val_accuracy', min_delta=0, patiece=5)\n"
      ],
      "execution_count": null,
      "outputs": []
    },
    {
      "cell_type": "code",
      "metadata": {
        "id": "Zyc5sIZYRpI0"
      },
      "source": [
        "model.fit(ds_train, epochs=num_epochs, validation_data=ds_test, callbacks=[earlystop_callback])\n",
        "model.evaluate(ds_test)\n"
      ],
      "execution_count": null,
      "outputs": []
    },
    {
      "cell_type": "code",
      "metadata": {
        "id": "Jy-u2d1nRwcp"
      },
      "source": [
        "model.save('saved_model/model')\n"
      ],
      "execution_count": null,
      "outputs": []
    },
    {
      "cell_type": "code",
      "metadata": {
        "id": "q2UmNM30R1kQ"
      },
      "source": [
        "model = tf.keras.models.load_model('saved_model/model')\n",
        "\n",
        "def predict(image, model=model):\n",
        "    img = tf.keras.preprocessing.image.load_img(\n",
        "        image, target_size=(28, 28), color_mode='grayscale')\n",
        "    img = tf.keras.preprocessing.image.img_to_array(img)\n",
        "    img = tf.expand_dims(img, 0)\n",
        "    pred = model.predict(img)\n",
        "    score = tf.nn.softmax(pred[0])\n",
        "    return np.argmax(score)\n",
        "\n"
      ],
      "execution_count": null,
      "outputs": []
    }
  ]
}